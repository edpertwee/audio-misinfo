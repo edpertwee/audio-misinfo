{
 "cells": [
  {
   "cell_type": "code",
   "execution_count": 1,
   "metadata": {},
   "outputs": [],
   "source": [
    "# Import necessary modules\n",
    "import sox\n",
    "from pathlib import Path"
   ]
  },
  {
   "cell_type": "code",
   "execution_count": 2,
   "metadata": {},
   "outputs": [],
   "source": [
    "# Define constants\n",
    "SOURCE = \"../temp\"  # Source directory for audio files\n",
    "COST = 0.006  # Transcription cost ($ per min)"
   ]
  },
  {
   "cell_type": "code",
   "execution_count": 3,
   "metadata": {},
   "outputs": [],
   "source": [
    "def calculate_cost(path_to_file, cost_per_min):\n",
    "    duration = sum([sox.file_info.duration(file) for file in Path(path_to_file).glob('*.mp3')])\n",
    "    mins = int(duration) // 60  # Calculate in minutes \n",
    "    duration %= 60\n",
    "    seconds = int(duration)  # Calculate in seconds \n",
    "    cost = (mins+1) * cost_per_min\n",
    "  \n",
    "    print(\"Total audio to transcribe: \" + str(mins) + \"M:\" + str(seconds) + \"S\")\n",
    "    print(\"Estimated cost: $\"+str(cost))"
   ]
  },
  {
   "cell_type": "code",
   "execution_count": 4,
   "metadata": {},
   "outputs": [
    {
     "name": "stdout",
     "output_type": "stream",
     "text": [
      "Total audio to transcribe: 28101M:23S\n",
      "Estimated cost: $168.612\n"
     ]
    }
   ],
   "source": [
    "calculate_cost(SOURCE, COST)"
   ]
  }
 ],
 "metadata": {
  "kernelspec": {
   "display_name": "HKU-PodcastVaccineMisinfo",
   "language": "python",
   "name": "python3"
  },
  "language_info": {
   "codemirror_mode": {
    "name": "ipython",
    "version": 3
   },
   "file_extension": ".py",
   "mimetype": "text/x-python",
   "name": "python",
   "nbconvert_exporter": "python",
   "pygments_lexer": "ipython3",
   "version": "3.1.-1"
  }
 },
 "nbformat": 4,
 "nbformat_minor": 2
}
